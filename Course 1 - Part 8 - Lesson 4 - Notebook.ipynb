{
  "nbformat": 4,
  "nbformat_minor": 0,
  "metadata": {
    "colab": {
      "name": "Course 1 - Part 8 - Lesson 4 - Notebook.ipynb",
      "version": "0.3.2",
      "provenance": [
        {
          "file_id": "1bNhoDuxgvvq_cxjQCNw4nVKL3UPWZ0dE",
          "timestamp": 1549908220201
        },
        {
          "file_id": "1Pjy7fKwEhiqYGXTIgERTLFN1BpjYpJRc",
          "timestamp": 1549904042321
        },
        {
          "file_id": "13vKUPc7zaldx3RoMrDtHX08F8KJHYncx",
          "timestamp": 1549861587694
        }
      ],
      "collapsed_sections": []
    },
    "kernelspec": {
      "name": "python3",
      "language": "python",
      "display_name": "Python 3"
    },
    "accelerator": "GPU"
  },
  "cells": [
    {
      "metadata": {
        "colab_type": "code",
        "id": "RXZT2UsyIVe_",
        "colab": {},
        "pycharm": {}
      },
      "cell_type": "code",
      "source": [
        "!wget --no-check-certificate \\\n",
        "    https://storage.googleapis.com/laurencemoroney-blog.appspot.com/horse-or-human.zip \\\n",
        "    -O /tmp/horse-or-human.zip"
      ],
      "execution_count": 0,
      "outputs": []
    },
    {
      "metadata": {
        "id": "0mLij6qde6Ox",
        "colab_type": "code",
        "colab": {},
        "pycharm": {}
      },
      "cell_type": "code",
      "source": [
        "!wget --no-check-certificate \\\n",
        "    https://storage.googleapis.com/laurencemoroney-blog.appspot.com/validation-horse-or-human.zip \\\n",
        "    -O /tmp/validation-horse-or-human.zip"
      ],
      "execution_count": 0,
      "outputs": []
    },
    {
      "metadata": {
        "id": "9brUxyTpYZHy",
        "colab_type": "text",
        "pycharm": {}
      },
      "cell_type": "markdown",
      "source": [
        "The following python code will use the OS library to use Operating System libraries, giving you access to the file system, and the zipfile library allowing you to unzip the data. "
      ]
    },
    {
      "metadata": {
        "colab_type": "code",
        "id": "PLy3pthUS0D2",
        "colab": {},
        "pycharm": {}
      },
      "cell_type": "code",
      "source": [
        "import os\n",
        "import zipfile\n",
        "\n",
        "local_zip \u003d \u0027/tmp/horse-or-human.zip\u0027\n",
        "zip_ref \u003d zipfile.ZipFile(local_zip, \u0027r\u0027)\n",
        "zip_ref.extractall(\u0027/tmp/horse-or-human\u0027)\n",
        "local_zip \u003d \u0027/tmp/validation-horse-or-human.zip\u0027\n",
        "zip_ref \u003d zipfile.ZipFile(local_zip, \u0027r\u0027)\n",
        "zip_ref.extractall(\u0027/tmp/validation-horse-or-human\u0027)\n",
        "zip_ref.close()"
      ],
      "execution_count": 0,
      "outputs": []
    },
    {
      "metadata": {
        "colab_type": "text",
        "id": "o-qUPyfO7Qr8",
        "pycharm": {}
      },
      "cell_type": "markdown",
      "source": [
        "The contents of the .zip are extracted to the base directory `/tmp/horse-or-human`, which in turn each contain `horses` and `humans` subdirectories.\n",
        "\n",
        "In short: The training set is the data that is used to tell the neural network model that \u0027this is what a horse looks like\u0027, \u0027this is what a human looks like\u0027 etc. \n",
        "\n",
        "One thing to pay attention to in this sample: We do not explicitly label the images as horses or humans. If you remember with the handwriting example earlier, we had labelled \u0027this is a 1\u0027, \u0027this is a 7\u0027 etc.  Later you\u0027ll see something called an ImageGenerator being used -- and this is coded to read images from subdirectories, and automatically label them from the name of that subdirectory. So, for example, you will have a \u0027training\u0027 directory containing a \u0027horses\u0027 directory and a \u0027humans\u0027 one. ImageGenerator will label the images appropriately for you, reducing a coding step. \n",
        "\n",
        "Let\u0027s define each of these directories:"
      ]
    },
    {
      "metadata": {
        "colab_type": "code",
        "id": "NR_M9nWN-K8B",
        "colab": {},
        "pycharm": {}
      },
      "cell_type": "code",
      "source": [
        "# Directory with our training horse pictures\n",
        "train_horse_dir \u003d os.path.join(\u0027/tmp/horse-or-human/horses\u0027)\n",
        "\n",
        "# Directory with our training human pictures\n",
        "train_human_dir \u003d os.path.join(\u0027/tmp/horse-or-human/humans\u0027)\n",
        "\n",
        "# Directory with our training horse pictures\n",
        "validation_horse_dir \u003d os.path.join(\u0027/tmp/validation-horse-or-human/validation-horses\u0027)\n",
        "\n",
        "# Directory with our training human pictures\n",
        "validation_human_dir \u003d os.path.join(\u0027/tmp/validation-horse-or-human/validation-humans\u0027)"
      ],
      "execution_count": 0,
      "outputs": []
    },
    {
      "metadata": {
        "colab_type": "text",
        "id": "5oqBkNBJmtUv",
        "pycharm": {}
      },
      "cell_type": "markdown",
      "source": [
        "## Building a Small Model from Scratch\n",
        "\n",
        "But before we continue, let\u0027s start defining the model:\n",
        "\n",
        "Step 1 will be to import tensorflow."
      ]
    },
    {
      "metadata": {
        "id": "qvfZg3LQbD-5",
        "colab_type": "code",
        "colab": {},
        "pycharm": {}
      },
      "cell_type": "code",
      "source": [
        "import tensorflow as tf"
      ],
      "execution_count": 0,
      "outputs": []
    },
    {
      "metadata": {
        "colab_type": "text",
        "id": "BnhYCP4tdqjC",
        "pycharm": {}
      },
      "cell_type": "markdown",
      "source": [
        "We then add convolutional layers as in the previous example, and flatten the final result to feed into the densely connected layers."
      ]
    },
    {
      "metadata": {
        "id": "gokG5HKpdtzm",
        "colab_type": "text",
        "pycharm": {}
      },
      "cell_type": "markdown",
      "source": [
        "Finally we add the densely connected layers. \n",
        "\n",
        "Note that because we are facing a two-class classification problem, i.e. a *binary classification problem*, we will end our network with a [*sigmoid* activation](https://wikipedia.org/wiki/Sigmoid_function), so that the output of our network will be a single scalar between 0 and 1, encoding the probability that the current image is class 1 (as opposed to class 0)."
      ]
    },
    {
      "metadata": {
        "id": "PixZ2s5QbYQ3",
        "colab_type": "code",
        "colab": {},
        "pycharm": {}
      },
      "cell_type": "code",
      "source": [
        "model \u003d tf.keras.models.Sequential([\n",
        "    # Note the input shape is the desired size of the image 150x150 with 3 bytes color\n",
        "    # This is the first convolution\n",
        "    tf.keras.layers.Conv2D(16, (3,3), activation\u003d\u0027relu\u0027, input_shape\u003d(150, 150, 3)),\n",
        "    tf.keras.layers.MaxPooling2D(2, 2),\n",
        "    # The second convolution\n",
        "    tf.keras.layers.Conv2D(32, (3,3), activation\u003d\u0027relu\u0027),\n",
        "    tf.keras.layers.MaxPooling2D(2,2),\n",
        "    # The third convolution\n",
        "    tf.keras.layers.Conv2D(64, (3,3), activation\u003d\u0027relu\u0027),\n",
        "    tf.keras.layers.MaxPooling2D(2,2),\n",
        "    # The fourth convolution\n",
        "    #tf.keras.layers.Conv2D(64, (3,3), activation\u003d\u0027relu\u0027),\n",
        "    #tf.keras.layers.MaxPooling2D(2,2),\n",
        "    # The fifth convolution\n",
        "    #tf.keras.layers.Conv2D(64, (3,3), activation\u003d\u0027relu\u0027),\n",
        "    #tf.keras.layers.MaxPooling2D(2,2),\n",
        "    # Flatten the results to feed into a DNN\n",
        "    tf.keras.layers.Flatten(),\n",
        "    # 512 neuron hidden layer\n",
        "    tf.keras.layers.Dense(512, activation\u003d\u0027relu\u0027),\n",
        "    # Only 1 output neuron. It will contain a value from 0-1 where 0 for 1 class (\u0027horses\u0027) and 1 for the other (\u0027humans\u0027)\n",
        "    tf.keras.layers.Dense(1, activation\u003d\u0027sigmoid\u0027)\n",
        "])"
      ],
      "execution_count": 0,
      "outputs": []
    },
    {
      "metadata": {
        "colab_type": "text",
        "id": "s9EaFDP5srBa",
        "pycharm": {}
      },
      "cell_type": "markdown",
      "source": [
        "The model.summary() method call prints a summary of the NN "
      ]
    },
    {
      "metadata": {
        "colab_type": "code",
        "id": "7ZKj8392nbgP",
        "colab": {},
        "pycharm": {}
      },
      "cell_type": "code",
      "source": [
        "model.summary()"
      ],
      "execution_count": 0,
      "outputs": []
    },
    {
      "metadata": {
        "colab_type": "text",
        "id": "DmtkTn06pKxF",
        "pycharm": {}
      },
      "cell_type": "markdown",
      "source": [
        "The \"output shape\" column shows how the size of your feature map evolves in each successive layer. The convolution layers reduce the size of the feature maps by a bit due to padding, and each pooling layer halves the dimensions."
      ]
    },
    {
      "metadata": {
        "colab_type": "text",
        "id": "PEkKSpZlvJXA",
        "pycharm": {}
      },
      "cell_type": "markdown",
      "source": [
        "Next, we\u0027ll configure the specifications for model training. We will train our model with the `binary_crossentropy` loss, because it\u0027s a binary classification problem and our final activation is a sigmoid. (For a refresher on loss metrics, see the [Machine Learning Crash Course](https://developers.google.com/machine-learning/crash-course/descending-into-ml/video-lecture).) We will use the `rmsprop` optimizer with a learning rate of `0.001`. During training, we will want to monitor classification accuracy.\n",
        "\n",
        "**NOTE**: In this case, using the [RMSprop optimization algorithm](https://wikipedia.org/wiki/Stochastic_gradient_descent#RMSProp) is preferable to [stochastic gradient descent](https://developers.google.com/machine-learning/glossary/#SGD) (SGD), because RMSprop automates learning-rate tuning for us. (Other optimizers, such as [Adam](https://wikipedia.org/wiki/Stochastic_gradient_descent#Adam) and [Adagrad](https://developers.google.com/machine-learning/glossary/#AdaGrad), also automatically adapt the learning rate during training, and would work equally well here.)"
      ]
    },
    {
      "metadata": {
        "colab_type": "code",
        "id": "8DHWhFP_uhq3",
        "colab": {},
        "pycharm": {}
      },
      "cell_type": "code",
      "source": [
        "from tensorflow.keras.optimizers import RMSprop\n",
        "\n",
        "model.compile(loss\u003d\u0027binary_crossentropy\u0027,\n",
        "              optimizer\u003dRMSprop(lr\u003d0.001),\n",
        "              metrics\u003d[\u0027acc\u0027])"
      ],
      "execution_count": 0,
      "outputs": []
    },
    {
      "metadata": {
        "colab_type": "text",
        "id": "Sn9m9D3UimHM",
        "pycharm": {}
      },
      "cell_type": "markdown",
      "source": [
        "### Data Preprocessing\n",
        "\n",
        "Let\u0027s set up data generators that will read pictures in our source folders, convert them to `float32` tensors, and feed them (with their labels) to our network. We\u0027ll have one generator for the training images and one for the validation images. Our generators will yield batches of images of size 300x300 and their labels (binary).\n",
        "\n",
        "As you may already know, data that goes into neural networks should usually be normalized in some way to make it more amenable to processing by the network. (It is uncommon to feed raw pixels into a convnet.) In our case, we will preprocess our images by normalizing the pixel values to be in the `[0, 1]` range (originally all values are in the `[0, 255]` range).\n",
        "\n",
        "In Keras this can be done via the `keras.preprocessing.image.ImageDataGenerator` class using the `rescale` parameter. This `ImageDataGenerator` class allows you to instantiate generators of augmented image batches (and their labels) via `.flow(data, labels)` or `.flow_from_directory(directory)`. These generators can then be used with the Keras model methods that accept data generators as inputs: `fit_generator`, `evaluate_generator`, and `predict_generator`."
      ]
    },
    {
      "metadata": {
        "colab_type": "code",
        "id": "ClebU9NJg99G",
        "colab": {},
        "pycharm": {}
      },
      "cell_type": "code",
      "source": [
        "from tensorflow.keras.preprocessing.image import ImageDataGenerator\n",
        "\n",
        "# All images will be rescaled by 1./255\n",
        "train_datagen \u003d ImageDataGenerator(rescale\u003d1/255)\n",
        "validation_datagen \u003d ImageDataGenerator(rescale\u003d1/255)\n",
        "\n",
        "# Flow training images in batches of 128 using train_datagen generator\n",
        "train_generator \u003d train_datagen.flow_from_directory(\n",
        "        \u0027/tmp/horse-or-human/\u0027,  # This is the source directory for training images\n",
        "        target_size\u003d(150, 150),  # All images will be resized to 150x150\n",
        "        batch_size\u003d128,\n",
        "        # Since we use binary_crossentropy loss, we need binary labels\n",
        "        class_mode\u003d\u0027binary\u0027)\n",
        "\n",
        "# Flow training images in batches of 128 using train_datagen generator\n",
        "validation_generator \u003d validation_datagen.flow_from_directory(\n",
        "        \u0027/tmp/validation-horse-or-human/\u0027,  # This is the source directory for training images\n",
        "        target_size\u003d(150, 150),  # All images will be resized to 150x150\n",
        "        batch_size\u003d32,\n",
        "        # Since we use binary_crossentropy loss, we need binary labels\n",
        "        class_mode\u003d\u0027binary\u0027)"
      ],
      "execution_count": 0,
      "outputs": []
    },
    {
      "metadata": {
        "colab_type": "text",
        "id": "mu3Jdwkjwax4",
        "pycharm": {}
      },
      "cell_type": "markdown",
      "source": [
        "### Training\n",
        "Let\u0027s train for 15 epochs -- this may take a few minutes to run.\n",
        "\n",
        "Do note the values per epoch.\n",
        "\n",
        "The Loss and Accuracy are a great indication of progress of training. It\u0027s making a guess as to the classification of the training data, and then measuring it against the known label, calculating the result. Accuracy is the portion of correct guesses. "
      ]
    },
    {
      "metadata": {
        "colab_type": "code",
        "id": "Fb1_lgobv81m",
        "colab": {},
        "pycharm": {}
      },
      "cell_type": "code",
      "source": [
        "history \u003d model.fit_generator(\n",
        "      train_generator,\n",
        "      steps_per_epoch\u003d8,  \n",
        "      epochs\u003d15,\n",
        "      verbose\u003d1,\n",
        "      validation_data \u003d validation_generator,\n",
        "      validation_steps\u003d8)"
      ],
      "execution_count": 0,
      "outputs": []
    },
    {
      "metadata": {
        "id": "o6vSHzPR2ghH",
        "colab_type": "text",
        "pycharm": {}
      },
      "cell_type": "markdown",
      "source": [
        "###Running the Model\n",
        "\n",
        "Let\u0027s now take a look at actually running a prediction using the model. This code will allow you to choose 1 or more files from your file system, it will then upload them, and run them through the model, giving an indication of whether the object is a horse or a human."
      ]
    },
    {
      "metadata": {
        "id": "DoWp43WxJDNT",
        "colab_type": "code",
        "colab": {},
        "pycharm": {}
      },
      "cell_type": "code",
      "source": [
        "import numpy as np\n",
        "from google.colab import files\n",
        "from keras.preprocessing import image\n",
        "\n",
        "uploaded \u003d files.upload()\n",
        "\n",
        "for fn in uploaded.keys():\n",
        " \n",
        "  # predicting images\n",
        "  path \u003d \u0027/content/\u0027 + fn\n",
        "  img \u003d image.load_img(path, target_size\u003d(150, 150))\n",
        "  x \u003d image.img_to_array(img)\n",
        "  x \u003d np.expand_dims(x, axis\u003d0)\n",
        "\n",
        "  images \u003d np.vstack([x])\n",
        "  classes \u003d model.predict(images, batch_size\u003d10)\n",
        "  print(classes[0])\n",
        "  if classes[0]\u003e0.5:\n",
        "    print(fn + \" is a human\")\n",
        "  else:\n",
        "    print(fn + \" is a horse\")\n",
        " "
      ],
      "execution_count": 0,
      "outputs": []
    },
    {
      "metadata": {
        "colab_type": "text",
        "id": "-8EHQyWGDvWz",
        "pycharm": {}
      },
      "cell_type": "markdown",
      "source": "### Visualizing Intermediate Representations\n\nTo get a feel for what kind of features our convnet has learned, one fun thing to do is to visualize how an input gets transformed as it goes through the convnet.\n\nLet\u0027s pick a random image from the training set, and then generate a figure where each row is the output of a layer, and each image in the row is a specific filter in that output feature map. Rerun this cell to generate intermediate representations for a variety of training images."
    },
    {
      "cell_type": "code",
      "execution_count": null,
      "outputs": [],
      "source": "import numpy as np\nimport random\nfrom tensorflow.keras.preprocessing.image import img_to_array, load_img\nimport pyplot as plt\n\n# Let\u0027s define a new Model that will take an image as input, and will output\n# intermediate representations for all layers in the previous model after\n# the first.\nsuccessive_outputs \u003d [layer.output for layer in model.layers[1:]]\n#visualization_model \u003d Model(img_input, successive_outputs)\nvisualization_model \u003d tf.keras.models.Model(inputs \u003d model.input, outputs \u003d successive_outputs)\n# Let\u0027s prepare a random input image from the training set.\ntrain_horse_names \u003d os.listdir(train_horse_dir)\ntrain_human_names \u003d os.listdir(train_human_dir)\nhorse_img_files \u003d [os.path.join(train_horse_dir, f) for f in train_horse_names]\nhuman_img_files \u003d [os.path.join(train_human_dir, f) for f in train_human_names]\nimg_path \u003d random.choice(horse_img_files + human_img_files)\n\nimg \u003d load_img(img_path, target_size\u003d(150, 150))  # this is a PIL image\nx \u003d img_to_array(img)  # Numpy array with shape (150, 150, 3)\nx \u003d x.reshape((1,) + x.shape)  # Numpy array with shape (1, 150, 150, 3)\n\n# Rescale by 1/255\nx /\u003d 255\n\n# Let\u0027s run our image through our network, thus obtaining all\n# intermediate representations for this image.\nsuccessive_feature_maps \u003d visualization_model.predict(x)\n\n# These are the names of the layers, so can have them as part of our plot\nlayer_names \u003d [layer.name for layer in model.layers]\n\n# Now let\u0027s display our representations\nfor layer_name, feature_map in zip(layer_names, successive_feature_maps):\n  if len(feature_map.shape) \u003d\u003d 4:\n    # Just do this for the conv / maxpool layers, not the fully-connected layers\n    n_features \u003d feature_map.shape[-1]  # number of features in feature map\n    # The feature map has shape (1, size, size, n_features)\n    size \u003d feature_map.shape[1]\n    # We will tile our images in this matrix\n    display_grid \u003d np.zeros((size, size * n_features))\n    for i in range(n_features):\n      # Postprocess the feature to make it visually palatable\n      x \u003d feature_map[0, :, :, i]\n      x -\u003d x.mean()\n      x /\u003d x.std()\n      x *\u003d 64\n      x +\u003d 128\n      x \u003d np.clip(x, 0, 255).astype(\u0027uint8\u0027)\n      # We\u0027ll tile each filter into this big horizontal grid\n      display_grid[:, i * size : (i + 1) * size] \u003d x\n    # Display the grid\n    scale \u003d 20. / n_features\n    plt.figure(figsize\u003d(scale * n_features, scale))\n    plt.title(layer_name)\n    plt.grid(False)\n    plt.imshow(display_grid, aspect\u003d\u0027auto\u0027, cmap\u003d\u0027viridis\u0027)",
      "metadata": {
        "pycharm": {
          "metadata": false,
          "name": "#%%\n"
        }
      }
    },
    {
      "metadata": {
        "colab_type": "text",
        "id": "tuqK2arJL0wo",
        "pycharm": {}
      },
      "cell_type": "markdown",
      "source": "As you can see we go from the raw pixels of the images to increasingly abstract and compact representations. The representations downstream start highlighting what the network pays attention to, and they show fewer and fewer features being \"activated\"; most are set to zero. This is called \"sparsity.\" Representation sparsity is a key feature of deep learning.\n\n\nThese representations carry increasingly less information about the original pixels of the image, but increasingly refined information about the class of the image. You can think of a convnet (or a deep network in general) as an information distillation pipeline."
    },
    {
      "metadata": {
        "colab_type": "text",
        "id": "j4IBgYCYooGD",
        "pycharm": {}
      },
      "cell_type": "markdown",
      "source": [
        "## Clean Up\n",
        "\n",
        "Before running the next exercise, run the following cell to terminate the kernel and free memory resources:"
      ]
    },
    {
      "metadata": {
        "colab_type": "code",
        "id": "651IgjLyo-Jx",
        "colab": {},
        "pycharm": {}
      },
      "cell_type": "code",
      "source": [
        "import os, signal\n",
        "os.kill(os.getpid(), signal.SIGKILL)"
      ],
      "execution_count": 0,
      "outputs": []
    }
  ]
}