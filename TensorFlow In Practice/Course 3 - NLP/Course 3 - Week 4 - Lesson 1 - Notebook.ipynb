{
  "nbformat": 4,
  "nbformat_minor": 0,
  "metadata": {
    "accelerator": "GPU",
    "colab": {
      "name": "Course 3 - Week 4 - Lesson 1 - Notebook.ipynb",
      "provenance": [],
      "collapsed_sections": []
    },
    "kernelspec": {
      "display_name": "Python 3",
      "name": "python3"
    }
  },
  "cells": [
    {
      "cell_type": "code",
      "metadata": {
        "id": "zX4Kg8DUTKWO",
        "colab_type": "code",
        "colab": {}
      },
      "source": [
        "#@title Licensed under the Apache License, Version 2.0 (the \"License\");\n",
        "# you may not use this file except in compliance with the License.\n",
        "# You may obtain a copy of the License at\n",
        "#\n",
        "# https://www.apache.org/licenses/LICENSE-2.0\n",
        "#\n",
        "# Unless required by applicable law or agreed to in writing, software\n",
        "# distributed under the License is distributed on an \"AS IS\" BASIS,\n",
        "# WITHOUT WARRANTIES OR CONDITIONS OF ANY KIND, either express or implied.\n",
        "# See the License for the specific language governing permissions and\n",
        "# limitations under the License."
      ],
      "execution_count": 0,
      "outputs": []
    },
    {
      "cell_type": "code",
      "metadata": {
        "colab_type": "code",
        "id": "BOwsuGQQY9OL",
        "colab": {}
      },
      "source": [
        "import tensorflow as tf\n",
        "\n",
        "from tensorflow.keras.preprocessing.sequence import pad_sequences\n",
        "from tensorflow.keras.layers import Embedding, LSTM, Dense, Bidirectional\n",
        "from tensorflow.keras.preprocessing.text import Tokenizer\n",
        "from tensorflow.keras.models import Sequential\n",
        "from tensorflow.keras.optimizers import Adam\n",
        "import numpy as np "
      ],
      "execution_count": 0,
      "outputs": []
    },
    {
      "cell_type": "code",
      "metadata": {
        "colab_type": "code",
        "id": "PRnDnCW-Z7qv",
        "colab": {
          "base_uri": "https://localhost:8080/",
          "height": 71
        },
        "outputId": "49adbee4-52ba-491c-886f-eb58d96451c5"
      },
      "source": [
        "tokenizer = Tokenizer()\n",
        "\n",
        "data=\"In the town of Athy one Jeremy Lanigan \\n Battered away til he hadnt a pound. \\nHis father died and made him a man again \\n Left him a farm and ten acres of ground. \\nHe gave a grand party for friends and relations \\nWho didnt forget him when come to the wall, \\nAnd if youll but listen Ill make your eyes glisten \\nOf the rows and the ructions of Lanigans Ball. \\nMyself to be sure got free invitation, \\nFor all the nice girls and boys I might ask, \\nAnd just in a minute both friends and relations \\nWere dancing round merry as bees round a cask. \\nJudy ODaly, that nice little milliner, \\nShe tipped me a wink for to give her a call, \\nAnd I soon arrived with Peggy McGilligan \\nJust in time for Lanigans Ball. \\nThere were lashings of punch and wine for the ladies, \\nPotatoes and cakes; there was bacon and tea, \\nThere were the Nolans, Dolans, OGradys \\nCourting the girls and dancing away. \\nSongs they went round as plenty as water, \\nThe harp that once sounded in Taras old hall,\\nSweet Nelly Gray and The Rat Catchers Daughter,\\nAll singing together at Lanigans Ball. \\nThey were doing all kinds of nonsensical polkas \\nAll round the room in a whirligig. \\nJulia and I, we banished their nonsense \\nAnd tipped them the twist of a reel and a jig. \\nAch mavrone, how the girls got all mad at me \\nDanced til youd think the ceiling would fall. \\nFor I spent three weeks at Brooks Academy \\nLearning new steps for Lanigans Ball. \\nThree long weeks I spent up in Dublin, \\nThree long weeks to learn nothing at all,\\n Three long weeks I spent up in Dublin, \\nLearning new steps for Lanigans Ball. \\nShe stepped out and I stepped in again, \\nI stepped out and she stepped in again, \\nShe stepped out and I stepped in again, \\nLearning new steps for Lanigans Ball. \\nBoys were all merry and the girls they were hearty \\nAnd danced all around in couples and groups, \\nTil an accident happened, young Terrance McCarthy \\nPut his right leg through miss Finnertys hoops. \\nPoor creature fainted and cried Meelia murther, \\nCalled for her brothers and gathered them all. \\nCarmody swore that hed go no further \\nTil he had satisfaction at Lanigans Ball. \\nIn the midst of the row miss Kerrigan fainted, \\nHer cheeks at the same time as red as a rose. \\nSome of the lads declared she was painted, \\nShe took a small drop too much, I suppose. \\nHer sweetheart, Ned Morgan, so powerful and able, \\nWhen he saw his fair colleen stretched out by the wall, \\nTore the left leg from under the table \\nAnd smashed all the Chaneys at Lanigans Ball. \\nBoys, oh boys, twas then there were runctions. \\nMyself got a lick from big Phelim McHugh. \\nI soon replied to his introduction \\nAnd kicked up a terrible hullabaloo. \\nOld Casey, the piper, was near being strangled. \\nThey squeezed up his pipes, bellows, chanters and all. \\nThe girls, in their ribbons, they got all entangled \\nAnd that put an end to Lanigans Ball.\"\n",
        "\n",
        "corpus = data.lower().split(\"\\n\")\n",
        "\n",
        "tokenizer.fit_on_texts(corpus)\n",
        "total_words = len(tokenizer.word_index) + 1\n",
        "\n",
        "print(tokenizer.word_index)\n",
        "print(total_words)\n"
      ],
      "execution_count": 3,
      "outputs": [
        {
          "output_type": "stream",
          "text": [
            "{'and': 1, 'the': 2, 'a': 3, 'in': 4, 'all': 5, 'i': 6, 'for': 7, 'of': 8, 'lanigans': 9, 'ball': 10, 'were': 11, 'at': 12, 'to': 13, 'she': 14, 'stepped': 15, 'his': 16, 'girls': 17, 'as': 18, 'they': 19, 'til': 20, 'he': 21, 'again': 22, 'got': 23, 'boys': 24, 'round': 25, 'that': 26, 'her': 27, 'there': 28, 'three': 29, 'weeks': 30, 'up': 31, 'out': 32, 'him': 33, 'was': 34, 'spent': 35, 'learning': 36, 'new': 37, 'steps': 38, 'long': 39, 'away': 40, 'left': 41, 'friends': 42, 'relations': 43, 'when': 44, 'wall': 45, 'myself': 46, 'nice': 47, 'just': 48, 'dancing': 49, 'merry': 50, 'tipped': 51, 'me': 52, 'soon': 53, 'time': 54, 'old': 55, 'their': 56, 'them': 57, 'danced': 58, 'dublin': 59, 'an': 60, 'put': 61, 'leg': 62, 'miss': 63, 'fainted': 64, 'from': 65, 'town': 66, 'athy': 67, 'one': 68, 'jeremy': 69, 'lanigan': 70, 'battered': 71, 'hadnt': 72, 'pound': 73, 'father': 74, 'died': 75, 'made': 76, 'man': 77, 'farm': 78, 'ten': 79, 'acres': 80, 'ground': 81, 'gave': 82, 'grand': 83, 'party': 84, 'who': 85, 'didnt': 86, 'forget': 87, 'come': 88, 'if': 89, 'youll': 90, 'but': 91, 'listen': 92, 'ill': 93, 'make': 94, 'your': 95, 'eyes': 96, 'glisten': 97, 'rows': 98, 'ructions': 99, 'be': 100, 'sure': 101, 'free': 102, 'invitation': 103, 'might': 104, 'ask': 105, 'minute': 106, 'both': 107, 'bees': 108, 'cask': 109, 'judy': 110, 'odaly': 111, 'little': 112, 'milliner': 113, 'wink': 114, 'give': 115, 'call': 116, 'arrived': 117, 'with': 118, 'peggy': 119, 'mcgilligan': 120, 'lashings': 121, 'punch': 122, 'wine': 123, 'ladies': 124, 'potatoes': 125, 'cakes': 126, 'bacon': 127, 'tea': 128, 'nolans': 129, 'dolans': 130, 'ogradys': 131, 'courting': 132, 'songs': 133, 'went': 134, 'plenty': 135, 'water': 136, 'harp': 137, 'once': 138, 'sounded': 139, 'taras': 140, 'hall': 141, 'sweet': 142, 'nelly': 143, 'gray': 144, 'rat': 145, 'catchers': 146, 'daughter': 147, 'singing': 148, 'together': 149, 'doing': 150, 'kinds': 151, 'nonsensical': 152, 'polkas': 153, 'room': 154, 'whirligig': 155, 'julia': 156, 'we': 157, 'banished': 158, 'nonsense': 159, 'twist': 160, 'reel': 161, 'jig': 162, 'ach': 163, 'mavrone': 164, 'how': 165, 'mad': 166, 'youd': 167, 'think': 168, 'ceiling': 169, 'would': 170, 'fall': 171, 'brooks': 172, 'academy': 173, 'learn': 174, 'nothing': 175, 'hearty': 176, 'around': 177, 'couples': 178, 'groups': 179, 'accident': 180, 'happened': 181, 'young': 182, 'terrance': 183, 'mccarthy': 184, 'right': 185, 'through': 186, 'finnertys': 187, 'hoops': 188, 'poor': 189, 'creature': 190, 'cried': 191, 'meelia': 192, 'murther': 193, 'called': 194, 'brothers': 195, 'gathered': 196, 'carmody': 197, 'swore': 198, 'hed': 199, 'go': 200, 'no': 201, 'further': 202, 'had': 203, 'satisfaction': 204, 'midst': 205, 'row': 206, 'kerrigan': 207, 'cheeks': 208, 'same': 209, 'red': 210, 'rose': 211, 'some': 212, 'lads': 213, 'declared': 214, 'painted': 215, 'took': 216, 'small': 217, 'drop': 218, 'too': 219, 'much': 220, 'suppose': 221, 'sweetheart': 222, 'ned': 223, 'morgan': 224, 'so': 225, 'powerful': 226, 'able': 227, 'saw': 228, 'fair': 229, 'colleen': 230, 'stretched': 231, 'by': 232, 'tore': 233, 'under': 234, 'table': 235, 'smashed': 236, 'chaneys': 237, 'oh': 238, 'twas': 239, 'then': 240, 'runctions': 241, 'lick': 242, 'big': 243, 'phelim': 244, 'mchugh': 245, 'replied': 246, 'introduction': 247, 'kicked': 248, 'terrible': 249, 'hullabaloo': 250, 'casey': 251, 'piper': 252, 'near': 253, 'being': 254, 'strangled': 255, 'squeezed': 256, 'pipes': 257, 'bellows': 258, 'chanters': 259, 'ribbons': 260, 'entangled': 261, 'end': 262}\n",
            "263\n"
          ],
          "name": "stdout"
        }
      ]
    },
    {
      "cell_type": "code",
      "metadata": {
        "colab_type": "code",
        "id": "soPGVheskaQP",
        "colab": {}
      },
      "source": [
        "input_sequences = []\n",
        "for line in corpus:\n",
        "\ttoken_list = tokenizer.texts_to_sequences([line])[0]\n",
        "\tfor i in range(1, len(token_list)):\n",
        "\t\tn_gram_sequence = token_list[:i+1]\n",
        "\t\tinput_sequences.append(n_gram_sequence)\n",
        "\n",
        "# pad sequences \n",
        "max_sequence_len = max([len(x) for x in input_sequences])\n",
        "input_sequences = np.array(pad_sequences(input_sequences, maxlen=max_sequence_len, padding='pre'))\n",
        "\n",
        "# create predictors and label\n",
        "xs, labels = input_sequences[:,:-1],input_sequences[:,-1]\n",
        "\n",
        "ys = tf.keras.utils.to_categorical(labels, num_classes=total_words)"
      ],
      "execution_count": 0,
      "outputs": []
    },
    {
      "cell_type": "code",
      "metadata": {
        "colab_type": "code",
        "id": "pJtwVB2NbOAP",
        "colab": {
          "base_uri": "https://localhost:8080/",
          "height": 153
        },
        "outputId": "89a1dcf0-e3bc-4071-dba9-7a2f93d7653d"
      },
      "source": [
        "print(tokenizer.word_index['in'])\n",
        "print(tokenizer.word_index['the'])\n",
        "print(tokenizer.word_index['town'])\n",
        "print(tokenizer.word_index['of'])\n",
        "print(tokenizer.word_index['athy'])\n",
        "print(tokenizer.word_index['one'])\n",
        "print(tokenizer.word_index['jeremy'])\n",
        "print(tokenizer.word_index['lanigan'])"
      ],
      "execution_count": 5,
      "outputs": [
        {
          "output_type": "stream",
          "text": [
            "4\n",
            "2\n",
            "66\n",
            "8\n",
            "67\n",
            "68\n",
            "69\n",
            "70\n"
          ],
          "name": "stdout"
        }
      ]
    },
    {
      "cell_type": "code",
      "metadata": {
        "colab_type": "code",
        "id": "49Cv68JOakwv",
        "colab": {
          "base_uri": "https://localhost:8080/",
          "height": 34
        },
        "outputId": "f8f7a932-75ef-4983-e042-5901d177bb78"
      },
      "source": [
        "print(xs[6])"
      ],
      "execution_count": 6,
      "outputs": [
        {
          "output_type": "stream",
          "text": [
            "[ 0  0  0  4  2 66  8 67 68 69]\n"
          ],
          "name": "stdout"
        }
      ]
    },
    {
      "cell_type": "code",
      "metadata": {
        "colab_type": "code",
        "id": "iY-jwvfgbEF8",
        "colab": {
          "base_uri": "https://localhost:8080/",
          "height": 204
        },
        "outputId": "7375a443-ec46-4a1d-bdd6-6ab7d572001c"
      },
      "source": [
        "print(ys[6])"
      ],
      "execution_count": 7,
      "outputs": [
        {
          "output_type": "stream",
          "text": [
            "[0. 0. 0. 0. 0. 0. 0. 0. 0. 0. 0. 0. 0. 0. 0. 0. 0. 0. 0. 0. 0. 0. 0. 0.\n",
            " 0. 0. 0. 0. 0. 0. 0. 0. 0. 0. 0. 0. 0. 0. 0. 0. 0. 0. 0. 0. 0. 0. 0. 0.\n",
            " 0. 0. 0. 0. 0. 0. 0. 0. 0. 0. 0. 0. 0. 0. 0. 0. 0. 0. 0. 0. 0. 0. 1. 0.\n",
            " 0. 0. 0. 0. 0. 0. 0. 0. 0. 0. 0. 0. 0. 0. 0. 0. 0. 0. 0. 0. 0. 0. 0. 0.\n",
            " 0. 0. 0. 0. 0. 0. 0. 0. 0. 0. 0. 0. 0. 0. 0. 0. 0. 0. 0. 0. 0. 0. 0. 0.\n",
            " 0. 0. 0. 0. 0. 0. 0. 0. 0. 0. 0. 0. 0. 0. 0. 0. 0. 0. 0. 0. 0. 0. 0. 0.\n",
            " 0. 0. 0. 0. 0. 0. 0. 0. 0. 0. 0. 0. 0. 0. 0. 0. 0. 0. 0. 0. 0. 0. 0. 0.\n",
            " 0. 0. 0. 0. 0. 0. 0. 0. 0. 0. 0. 0. 0. 0. 0. 0. 0. 0. 0. 0. 0. 0. 0. 0.\n",
            " 0. 0. 0. 0. 0. 0. 0. 0. 0. 0. 0. 0. 0. 0. 0. 0. 0. 0. 0. 0. 0. 0. 0. 0.\n",
            " 0. 0. 0. 0. 0. 0. 0. 0. 0. 0. 0. 0. 0. 0. 0. 0. 0. 0. 0. 0. 0. 0. 0. 0.\n",
            " 0. 0. 0. 0. 0. 0. 0. 0. 0. 0. 0. 0. 0. 0. 0. 0. 0. 0. 0. 0. 0. 0. 0.]\n"
          ],
          "name": "stdout"
        }
      ]
    },
    {
      "cell_type": "code",
      "metadata": {
        "colab_type": "code",
        "id": "wtzlUMYadhKt",
        "colab": {
          "base_uri": "https://localhost:8080/",
          "height": 221
        },
        "outputId": "a6b587b6-6bf7-4f21-f18f-22b2bf830505"
      },
      "source": [
        "print(xs[5])\n",
        "print(ys[5])"
      ],
      "execution_count": 8,
      "outputs": [
        {
          "output_type": "stream",
          "text": [
            "[ 0  0  0  0  4  2 66  8 67 68]\n",
            "[0. 0. 0. 0. 0. 0. 0. 0. 0. 0. 0. 0. 0. 0. 0. 0. 0. 0. 0. 0. 0. 0. 0. 0.\n",
            " 0. 0. 0. 0. 0. 0. 0. 0. 0. 0. 0. 0. 0. 0. 0. 0. 0. 0. 0. 0. 0. 0. 0. 0.\n",
            " 0. 0. 0. 0. 0. 0. 0. 0. 0. 0. 0. 0. 0. 0. 0. 0. 0. 0. 0. 0. 0. 1. 0. 0.\n",
            " 0. 0. 0. 0. 0. 0. 0. 0. 0. 0. 0. 0. 0. 0. 0. 0. 0. 0. 0. 0. 0. 0. 0. 0.\n",
            " 0. 0. 0. 0. 0. 0. 0. 0. 0. 0. 0. 0. 0. 0. 0. 0. 0. 0. 0. 0. 0. 0. 0. 0.\n",
            " 0. 0. 0. 0. 0. 0. 0. 0. 0. 0. 0. 0. 0. 0. 0. 0. 0. 0. 0. 0. 0. 0. 0. 0.\n",
            " 0. 0. 0. 0. 0. 0. 0. 0. 0. 0. 0. 0. 0. 0. 0. 0. 0. 0. 0. 0. 0. 0. 0. 0.\n",
            " 0. 0. 0. 0. 0. 0. 0. 0. 0. 0. 0. 0. 0. 0. 0. 0. 0. 0. 0. 0. 0. 0. 0. 0.\n",
            " 0. 0. 0. 0. 0. 0. 0. 0. 0. 0. 0. 0. 0. 0. 0. 0. 0. 0. 0. 0. 0. 0. 0. 0.\n",
            " 0. 0. 0. 0. 0. 0. 0. 0. 0. 0. 0. 0. 0. 0. 0. 0. 0. 0. 0. 0. 0. 0. 0. 0.\n",
            " 0. 0. 0. 0. 0. 0. 0. 0. 0. 0. 0. 0. 0. 0. 0. 0. 0. 0. 0. 0. 0. 0. 0.]\n"
          ],
          "name": "stdout"
        }
      ]
    },
    {
      "cell_type": "code",
      "metadata": {
        "colab_type": "code",
        "id": "H4myRpB1c4Gg",
        "colab": {
          "base_uri": "https://localhost:8080/",
          "height": 54
        },
        "outputId": "fcacfda9-2d71-4e9d-a753-04d2457baf1f"
      },
      "source": [
        "print(tokenizer.word_index)"
      ],
      "execution_count": 9,
      "outputs": [
        {
          "output_type": "stream",
          "text": [
            "{'and': 1, 'the': 2, 'a': 3, 'in': 4, 'all': 5, 'i': 6, 'for': 7, 'of': 8, 'lanigans': 9, 'ball': 10, 'were': 11, 'at': 12, 'to': 13, 'she': 14, 'stepped': 15, 'his': 16, 'girls': 17, 'as': 18, 'they': 19, 'til': 20, 'he': 21, 'again': 22, 'got': 23, 'boys': 24, 'round': 25, 'that': 26, 'her': 27, 'there': 28, 'three': 29, 'weeks': 30, 'up': 31, 'out': 32, 'him': 33, 'was': 34, 'spent': 35, 'learning': 36, 'new': 37, 'steps': 38, 'long': 39, 'away': 40, 'left': 41, 'friends': 42, 'relations': 43, 'when': 44, 'wall': 45, 'myself': 46, 'nice': 47, 'just': 48, 'dancing': 49, 'merry': 50, 'tipped': 51, 'me': 52, 'soon': 53, 'time': 54, 'old': 55, 'their': 56, 'them': 57, 'danced': 58, 'dublin': 59, 'an': 60, 'put': 61, 'leg': 62, 'miss': 63, 'fainted': 64, 'from': 65, 'town': 66, 'athy': 67, 'one': 68, 'jeremy': 69, 'lanigan': 70, 'battered': 71, 'hadnt': 72, 'pound': 73, 'father': 74, 'died': 75, 'made': 76, 'man': 77, 'farm': 78, 'ten': 79, 'acres': 80, 'ground': 81, 'gave': 82, 'grand': 83, 'party': 84, 'who': 85, 'didnt': 86, 'forget': 87, 'come': 88, 'if': 89, 'youll': 90, 'but': 91, 'listen': 92, 'ill': 93, 'make': 94, 'your': 95, 'eyes': 96, 'glisten': 97, 'rows': 98, 'ructions': 99, 'be': 100, 'sure': 101, 'free': 102, 'invitation': 103, 'might': 104, 'ask': 105, 'minute': 106, 'both': 107, 'bees': 108, 'cask': 109, 'judy': 110, 'odaly': 111, 'little': 112, 'milliner': 113, 'wink': 114, 'give': 115, 'call': 116, 'arrived': 117, 'with': 118, 'peggy': 119, 'mcgilligan': 120, 'lashings': 121, 'punch': 122, 'wine': 123, 'ladies': 124, 'potatoes': 125, 'cakes': 126, 'bacon': 127, 'tea': 128, 'nolans': 129, 'dolans': 130, 'ogradys': 131, 'courting': 132, 'songs': 133, 'went': 134, 'plenty': 135, 'water': 136, 'harp': 137, 'once': 138, 'sounded': 139, 'taras': 140, 'hall': 141, 'sweet': 142, 'nelly': 143, 'gray': 144, 'rat': 145, 'catchers': 146, 'daughter': 147, 'singing': 148, 'together': 149, 'doing': 150, 'kinds': 151, 'nonsensical': 152, 'polkas': 153, 'room': 154, 'whirligig': 155, 'julia': 156, 'we': 157, 'banished': 158, 'nonsense': 159, 'twist': 160, 'reel': 161, 'jig': 162, 'ach': 163, 'mavrone': 164, 'how': 165, 'mad': 166, 'youd': 167, 'think': 168, 'ceiling': 169, 'would': 170, 'fall': 171, 'brooks': 172, 'academy': 173, 'learn': 174, 'nothing': 175, 'hearty': 176, 'around': 177, 'couples': 178, 'groups': 179, 'accident': 180, 'happened': 181, 'young': 182, 'terrance': 183, 'mccarthy': 184, 'right': 185, 'through': 186, 'finnertys': 187, 'hoops': 188, 'poor': 189, 'creature': 190, 'cried': 191, 'meelia': 192, 'murther': 193, 'called': 194, 'brothers': 195, 'gathered': 196, 'carmody': 197, 'swore': 198, 'hed': 199, 'go': 200, 'no': 201, 'further': 202, 'had': 203, 'satisfaction': 204, 'midst': 205, 'row': 206, 'kerrigan': 207, 'cheeks': 208, 'same': 209, 'red': 210, 'rose': 211, 'some': 212, 'lads': 213, 'declared': 214, 'painted': 215, 'took': 216, 'small': 217, 'drop': 218, 'too': 219, 'much': 220, 'suppose': 221, 'sweetheart': 222, 'ned': 223, 'morgan': 224, 'so': 225, 'powerful': 226, 'able': 227, 'saw': 228, 'fair': 229, 'colleen': 230, 'stretched': 231, 'by': 232, 'tore': 233, 'under': 234, 'table': 235, 'smashed': 236, 'chaneys': 237, 'oh': 238, 'twas': 239, 'then': 240, 'runctions': 241, 'lick': 242, 'big': 243, 'phelim': 244, 'mchugh': 245, 'replied': 246, 'introduction': 247, 'kicked': 248, 'terrible': 249, 'hullabaloo': 250, 'casey': 251, 'piper': 252, 'near': 253, 'being': 254, 'strangled': 255, 'squeezed': 256, 'pipes': 257, 'bellows': 258, 'chanters': 259, 'ribbons': 260, 'entangled': 261, 'end': 262}\n"
          ],
          "name": "stdout"
        }
      ]
    },
    {
      "cell_type": "code",
      "metadata": {
        "colab_type": "code",
        "id": "w9vH8Y59ajYL",
        "colab": {
          "base_uri": "https://localhost:8080/",
          "height": 1000
        },
        "outputId": "420d6932-7be4-40fd-fab1-f428d5cd9e10"
      },
      "source": [
        "  model = Sequential()\n",
        "  model.add(Embedding(total_words, 64, input_length=max_sequence_len-1))\n",
        "  model.add(Bidirectional(LSTM(20)))\n",
        "  model.add(Dense(total_words, activation='softmax'))\n",
        "  model.compile(loss='categorical_crossentropy', optimizer='adam', metrics=['accuracy'])\n",
        "  history = model.fit(xs, ys, epochs=500, verbose=1)\n"
      ],
      "execution_count": 0,
      "outputs": [
        {
          "output_type": "stream",
          "text": [
            "Epoch 1/500\n",
            "15/15 [==============================] - 0s 9ms/step - loss: 5.5694 - accuracy: 0.0199\n",
            "Epoch 2/500\n",
            "15/15 [==============================] - 0s 8ms/step - loss: 5.5474 - accuracy: 0.0353\n",
            "Epoch 3/500\n",
            "15/15 [==============================] - 0s 7ms/step - loss: 5.5016 - accuracy: 0.0596\n",
            "Epoch 4/500\n",
            "15/15 [==============================] - 0s 8ms/step - loss: 5.3646 - accuracy: 0.0486\n",
            "Epoch 5/500\n",
            "15/15 [==============================] - 0s 7ms/step - loss: 5.1638 - accuracy: 0.0486\n",
            "Epoch 6/500\n",
            "15/15 [==============================] - 0s 8ms/step - loss: 5.0717 - accuracy: 0.0486\n",
            "Epoch 7/500\n",
            "15/15 [==============================] - 0s 9ms/step - loss: 5.0298 - accuracy: 0.0508\n",
            "Epoch 8/500\n",
            "15/15 [==============================] - 0s 7ms/step - loss: 4.9946 - accuracy: 0.0508\n",
            "Epoch 9/500\n",
            "15/15 [==============================] - 0s 8ms/step - loss: 4.9622 - accuracy: 0.0574\n",
            "Epoch 10/500\n",
            "15/15 [==============================] - 0s 8ms/step - loss: 4.9274 - accuracy: 0.0574\n",
            "Epoch 11/500\n",
            "15/15 [==============================] - 0s 8ms/step - loss: 4.8828 - accuracy: 0.0442\n",
            "Epoch 12/500\n",
            "15/15 [==============================] - 0s 7ms/step - loss: 4.8302 - accuracy: 0.0508\n",
            "Epoch 13/500\n",
            "15/15 [==============================] - 0s 7ms/step - loss: 4.7799 - accuracy: 0.0530\n",
            "Epoch 14/500\n",
            "15/15 [==============================] - 0s 8ms/step - loss: 4.7275 - accuracy: 0.0552\n",
            "Epoch 15/500\n",
            "15/15 [==============================] - 0s 7ms/step - loss: 4.6785 - accuracy: 0.0596\n",
            "Epoch 16/500\n",
            "15/15 [==============================] - 0s 8ms/step - loss: 4.6159 - accuracy: 0.0618\n",
            "Epoch 17/500\n",
            "15/15 [==============================] - 0s 7ms/step - loss: 4.5603 - accuracy: 0.0706\n",
            "Epoch 18/500\n",
            "15/15 [==============================] - 0s 7ms/step - loss: 4.5110 - accuracy: 0.0773\n",
            "Epoch 19/500\n",
            "15/15 [==============================] - 0s 8ms/step - loss: 4.4557 - accuracy: 0.0728\n",
            "Epoch 20/500\n",
            "15/15 [==============================] - 0s 8ms/step - loss: 4.4123 - accuracy: 0.0795\n",
            "Epoch 21/500\n",
            "15/15 [==============================] - 0s 7ms/step - loss: 4.3611 - accuracy: 0.1015\n",
            "Epoch 22/500\n",
            "15/15 [==============================] - 0s 8ms/step - loss: 4.3241 - accuracy: 0.1082\n",
            "Epoch 23/500\n",
            "15/15 [==============================] - 0s 7ms/step - loss: 4.2809 - accuracy: 0.1192\n",
            "Epoch 24/500\n",
            "15/15 [==============================] - 0s 8ms/step - loss: 4.2264 - accuracy: 0.1214\n",
            "Epoch 25/500\n",
            "15/15 [==============================] - 0s 8ms/step - loss: 4.1806 - accuracy: 0.1192\n",
            "Epoch 26/500\n",
            "15/15 [==============================] - 0s 8ms/step - loss: 4.1369 - accuracy: 0.1082\n",
            "Epoch 27/500\n",
            "15/15 [==============================] - 0s 7ms/step - loss: 4.0942 - accuracy: 0.1258\n",
            "Epoch 28/500\n",
            "15/15 [==============================] - 0s 7ms/step - loss: 4.0518 - accuracy: 0.1369\n",
            "Epoch 29/500\n",
            "15/15 [==============================] - 0s 7ms/step - loss: 4.0067 - accuracy: 0.1479\n",
            "Epoch 30/500\n",
            "15/15 [==============================] - 0s 8ms/step - loss: 3.9614 - accuracy: 0.1656\n",
            "Epoch 31/500\n",
            "15/15 [==============================] - 0s 7ms/step - loss: 3.9284 - accuracy: 0.1744\n",
            "Epoch 32/500\n",
            "15/15 [==============================] - 0s 8ms/step - loss: 3.8875 - accuracy: 0.1634\n",
            "Epoch 33/500\n",
            "15/15 [==============================] - 0s 8ms/step - loss: 3.8477 - accuracy: 0.1744\n",
            "Epoch 34/500\n",
            "15/15 [==============================] - 0s 7ms/step - loss: 3.8035 - accuracy: 0.1898\n",
            "Epoch 35/500\n",
            "15/15 [==============================] - 0s 8ms/step - loss: 3.7601 - accuracy: 0.1921\n",
            "Epoch 36/500\n",
            "15/15 [==============================] - 0s 8ms/step - loss: 3.7247 - accuracy: 0.2031\n",
            "Epoch 37/500\n",
            "15/15 [==============================] - 0s 8ms/step - loss: 3.7027 - accuracy: 0.1898\n",
            "Epoch 38/500\n",
            "15/15 [==============================] - 0s 7ms/step - loss: 3.6577 - accuracy: 0.2031\n",
            "Epoch 39/500\n",
            "15/15 [==============================] - 0s 7ms/step - loss: 3.6179 - accuracy: 0.2097\n",
            "Epoch 40/500\n",
            "15/15 [==============================] - 0s 8ms/step - loss: 3.5687 - accuracy: 0.2119\n",
            "Epoch 41/500\n",
            "15/15 [==============================] - 0s 7ms/step - loss: 3.5292 - accuracy: 0.2185\n",
            "Epoch 42/500\n",
            "15/15 [==============================] - 0s 7ms/step - loss: 3.4866 - accuracy: 0.2230\n",
            "Epoch 43/500\n",
            "15/15 [==============================] - 0s 8ms/step - loss: 3.4482 - accuracy: 0.2163\n",
            "Epoch 44/500\n",
            "15/15 [==============================] - 0s 7ms/step - loss: 3.4173 - accuracy: 0.2517\n",
            "Epoch 45/500\n",
            "15/15 [==============================] - 0s 8ms/step - loss: 3.3874 - accuracy: 0.2494\n",
            "Epoch 46/500\n",
            "15/15 [==============================] - 0s 7ms/step - loss: 3.3512 - accuracy: 0.2627\n",
            "Epoch 47/500\n",
            "15/15 [==============================] - 0s 8ms/step - loss: 3.3205 - accuracy: 0.2826\n",
            "Epoch 48/500\n",
            "15/15 [==============================] - 0s 8ms/step - loss: 3.2916 - accuracy: 0.2715\n",
            "Epoch 49/500\n",
            "15/15 [==============================] - 0s 7ms/step - loss: 3.2453 - accuracy: 0.2848\n",
            "Epoch 50/500\n",
            "15/15 [==============================] - 0s 7ms/step - loss: 3.2047 - accuracy: 0.2980\n",
            "Epoch 51/500\n",
            "15/15 [==============================] - 0s 8ms/step - loss: 3.1735 - accuracy: 0.3444\n",
            "Epoch 52/500\n",
            "15/15 [==============================] - 0s 7ms/step - loss: 3.1405 - accuracy: 0.3377\n",
            "Epoch 53/500\n",
            "15/15 [==============================] - 0s 7ms/step - loss: 3.1059 - accuracy: 0.3444\n",
            "Epoch 54/500\n",
            "15/15 [==============================] - 0s 8ms/step - loss: 3.0690 - accuracy: 0.3488\n",
            "Epoch 55/500\n",
            "15/15 [==============================] - 0s 8ms/step - loss: 3.0400 - accuracy: 0.3731\n",
            "Epoch 56/500\n",
            "15/15 [==============================] - 0s 8ms/step - loss: 3.0065 - accuracy: 0.3797\n",
            "Epoch 57/500\n",
            "15/15 [==============================] - 0s 8ms/step - loss: 2.9796 - accuracy: 0.3885\n",
            "Epoch 58/500\n",
            "15/15 [==============================] - 0s 8ms/step - loss: 2.9513 - accuracy: 0.3907\n",
            "Epoch 59/500\n",
            "15/15 [==============================] - 0s 7ms/step - loss: 2.9354 - accuracy: 0.3929\n",
            "Epoch 60/500\n",
            "15/15 [==============================] - 0s 8ms/step - loss: 2.8914 - accuracy: 0.3951\n",
            "Epoch 61/500\n",
            "15/15 [==============================] - 0s 8ms/step - loss: 2.8780 - accuracy: 0.4062\n",
            "Epoch 62/500\n",
            "15/15 [==============================] - 0s 7ms/step - loss: 2.8480 - accuracy: 0.4062\n",
            "Epoch 63/500\n",
            "15/15 [==============================] - 0s 8ms/step - loss: 2.8126 - accuracy: 0.4216\n",
            "Epoch 64/500\n",
            "15/15 [==============================] - 0s 8ms/step - loss: 2.7797 - accuracy: 0.4349\n",
            "Epoch 65/500\n",
            "15/15 [==============================] - 0s 8ms/step - loss: 2.7689 - accuracy: 0.4393\n",
            "Epoch 66/500\n",
            "15/15 [==============================] - 0s 8ms/step - loss: 2.7257 - accuracy: 0.4415\n",
            "Epoch 67/500\n",
            "15/15 [==============================] - 0s 7ms/step - loss: 2.7321 - accuracy: 0.4459\n",
            "Epoch 68/500\n",
            "15/15 [==============================] - 0s 7ms/step - loss: 2.7043 - accuracy: 0.4481\n",
            "Epoch 69/500\n",
            "15/15 [==============================] - 0s 8ms/step - loss: 2.6774 - accuracy: 0.4702\n",
            "Epoch 70/500\n",
            "15/15 [==============================] - 0s 8ms/step - loss: 2.6660 - accuracy: 0.4658\n",
            "Epoch 71/500\n",
            "15/15 [==============================] - 0s 7ms/step - loss: 2.6100 - accuracy: 0.4967\n",
            "Epoch 72/500\n",
            "15/15 [==============================] - 0s 8ms/step - loss: 2.5852 - accuracy: 0.5033\n",
            "Epoch 73/500\n",
            "15/15 [==============================] - 0s 7ms/step - loss: 2.5538 - accuracy: 0.4989\n",
            "Epoch 74/500\n",
            "15/15 [==============================] - 0s 7ms/step - loss: 2.5117 - accuracy: 0.5298\n",
            "Epoch 75/500\n",
            "15/15 [==============================] - 0s 8ms/step - loss: 2.4817 - accuracy: 0.5276\n",
            "Epoch 76/500\n",
            "15/15 [==============================] - 0s 8ms/step - loss: 2.4688 - accuracy: 0.5210\n",
            "Epoch 77/500\n",
            "15/15 [==============================] - 0s 8ms/step - loss: 2.4622 - accuracy: 0.5298\n",
            "Epoch 78/500\n",
            "15/15 [==============================] - 0s 7ms/step - loss: 2.4384 - accuracy: 0.5386\n",
            "Epoch 79/500\n",
            "15/15 [==============================] - 0s 8ms/step - loss: 2.4079 - accuracy: 0.5519\n",
            "Epoch 80/500\n",
            "15/15 [==============================] - 0s 8ms/step - loss: 2.3768 - accuracy: 0.5607\n",
            "Epoch 81/500\n",
            "15/15 [==============================] - 0s 8ms/step - loss: 2.3472 - accuracy: 0.5762\n",
            "Epoch 82/500\n",
            "15/15 [==============================] - 0s 7ms/step - loss: 2.3338 - accuracy: 0.5563\n",
            "Epoch 83/500\n",
            "15/15 [==============================] - 0s 8ms/step - loss: 2.3247 - accuracy: 0.5563\n",
            "Epoch 84/500\n",
            "15/15 [==============================] - 0s 9ms/step - loss: 2.3128 - accuracy: 0.5453\n",
            "Epoch 85/500\n",
            "15/15 [==============================] - 0s 8ms/step - loss: 2.2662 - accuracy: 0.5629\n",
            "Epoch 86/500\n",
            "15/15 [==============================] - 0s 8ms/step - loss: 2.2430 - accuracy: 0.5806\n",
            "Epoch 87/500\n",
            "15/15 [==============================] - 0s 9ms/step - loss: 2.2180 - accuracy: 0.5850\n",
            "Epoch 88/500\n",
            "15/15 [==============================] - 0s 7ms/step - loss: 2.1855 - accuracy: 0.5828\n",
            "Epoch 89/500\n",
            "15/15 [==============================] - 0s 8ms/step - loss: 2.1592 - accuracy: 0.5982\n",
            "Epoch 90/500\n",
            "15/15 [==============================] - 0s 7ms/step - loss: 2.1333 - accuracy: 0.6093\n",
            "Epoch 91/500\n",
            "15/15 [==============================] - 0s 7ms/step - loss: 2.1152 - accuracy: 0.6181\n",
            "Epoch 92/500\n",
            "15/15 [==============================] - 0s 7ms/step - loss: 2.0908 - accuracy: 0.6181\n",
            "Epoch 93/500\n",
            "15/15 [==============================] - 0s 9ms/step - loss: 2.0709 - accuracy: 0.6402\n",
            "Epoch 94/500\n",
            "15/15 [==============================] - 0s 7ms/step - loss: 2.0508 - accuracy: 0.6446\n",
            "Epoch 95/500\n",
            "15/15 [==============================] - 0s 8ms/step - loss: 2.0299 - accuracy: 0.6534\n",
            "Epoch 96/500\n",
            "15/15 [==============================] - 0s 7ms/step - loss: 2.0253 - accuracy: 0.6490\n",
            "Epoch 97/500\n",
            "15/15 [==============================] - 0s 7ms/step - loss: 1.9910 - accuracy: 0.6336\n",
            "Epoch 98/500\n",
            "15/15 [==============================] - 0s 7ms/step - loss: 1.9787 - accuracy: 0.6446\n",
            "Epoch 99/500\n",
            "15/15 [==============================] - 0s 8ms/step - loss: 1.9614 - accuracy: 0.6468\n",
            "Epoch 100/500\n",
            "15/15 [==============================] - 0s 7ms/step - loss: 1.9496 - accuracy: 0.6556\n",
            "Epoch 101/500\n",
            "15/15 [==============================] - 0s 8ms/step - loss: 1.9254 - accuracy: 0.6755\n",
            "Epoch 102/500\n",
            "15/15 [==============================] - 0s 7ms/step - loss: 1.9135 - accuracy: 0.6909\n",
            "Epoch 103/500\n",
            "15/15 [==============================] - 0s 8ms/step - loss: 1.9035 - accuracy: 0.6777\n",
            "Epoch 104/500\n",
            "15/15 [==============================] - 0s 8ms/step - loss: 1.8853 - accuracy: 0.6909\n",
            "Epoch 105/500\n",
            "15/15 [==============================] - 0s 8ms/step - loss: 1.8703 - accuracy: 0.6932\n",
            "Epoch 106/500\n",
            "15/15 [==============================] - 0s 7ms/step - loss: 1.8309 - accuracy: 0.7086\n",
            "Epoch 107/500\n",
            "15/15 [==============================] - 0s 7ms/step - loss: 1.8152 - accuracy: 0.7042\n",
            "Epoch 108/500\n",
            "15/15 [==============================] - 0s 8ms/step - loss: 1.8395 - accuracy: 0.6843\n",
            "Epoch 109/500\n",
            "15/15 [==============================] - 0s 8ms/step - loss: 1.8047 - accuracy: 0.6976\n",
            "Epoch 110/500\n",
            "15/15 [==============================] - 0s 7ms/step - loss: 1.7666 - accuracy: 0.7064\n",
            "Epoch 111/500\n",
            "15/15 [==============================] - 0s 8ms/step - loss: 1.7489 - accuracy: 0.7108\n",
            "Epoch 112/500\n",
            "15/15 [==============================] - 0s 8ms/step - loss: 1.7179 - accuracy: 0.7219\n",
            "Epoch 113/500\n",
            "15/15 [==============================] - 0s 7ms/step - loss: 1.6967 - accuracy: 0.7064\n",
            "Epoch 114/500\n",
            "15/15 [==============================] - 0s 8ms/step - loss: 1.6724 - accuracy: 0.7219\n",
            "Epoch 115/500\n",
            "15/15 [==============================] - 0s 8ms/step - loss: 1.6499 - accuracy: 0.7351\n",
            "Epoch 116/500\n",
            "15/15 [==============================] - 0s 7ms/step - loss: 1.6281 - accuracy: 0.7395\n",
            "Epoch 117/500\n",
            "15/15 [==============================] - 0s 8ms/step - loss: 1.6108 - accuracy: 0.7461\n",
            "Epoch 118/500\n",
            "15/15 [==============================] - 0s 7ms/step - loss: 1.5939 - accuracy: 0.7461\n",
            "Epoch 119/500\n",
            "15/15 [==============================] - 0s 7ms/step - loss: 1.5762 - accuracy: 0.7395\n",
            "Epoch 120/500\n",
            " 1/15 [=>............................] - ETA: 0s - loss: 1.4286 - accuracy: 0.8125"
          ],
          "name": "stdout"
        }
      ]
    },
    {
      "cell_type": "code",
      "metadata": {
        "colab_type": "code",
        "id": "3YXGelKThoTT",
        "colab": {}
      },
      "source": [
        "import matplotlib.pyplot as plt\n",
        "\n",
        "\n",
        "def plot_graphs(history, string):\n",
        "  plt.plot(history.history[string])\n",
        "  plt.xlabel(\"Epochs\")\n",
        "  plt.ylabel(string)\n",
        "  plt.show()"
      ],
      "execution_count": 0,
      "outputs": []
    },
    {
      "cell_type": "code",
      "metadata": {
        "colab_type": "code",
        "id": "poeprYK8h-c7",
        "colab": {}
      },
      "source": [
        "plot_graphs(history, 'accuracy')\n"
      ],
      "execution_count": 0,
      "outputs": []
    },
    {
      "cell_type": "code",
      "metadata": {
        "colab_type": "code",
        "outputId": "18783038-64d0-4a44-ca84-dab5b984eede",
        "id": "oglofgMJ0-HG",
        "colab": {
          "base_uri": "https://localhost:8080/",
          "height": 54
        }
      },
      "source": [
        "seed_text = \"Laurence went to dublin\"\n",
        "next_words = 100\n",
        "  \n",
        "for _ in range(next_words):\n",
        "\ttoken_list = tokenizer.texts_to_sequences([seed_text])[0]\n",
        "\ttoken_list = pad_sequences([token_list], maxlen=max_sequence_len-1, padding='pre')\n",
        "\tpredicted = np.argmax(model.predict(token_list, verbose=0), axis =-1)\n",
        "\toutput_word = \"\"\n",
        "\tfor word, index in tokenizer.word_index.items():\n",
        "\t\tif index == predicted:\n",
        "\t\t\toutput_word = word\n",
        "\t\t\tbreak\n",
        "\tseed_text += \" \" + output_word\n",
        "print(seed_text)"
      ],
      "execution_count": 0,
      "outputs": [
        {
          "output_type": "stream",
          "text": [
            "Laurence went to dublin the same time as gathered a rose call ground rose ground relations give him and the rose rose rose nonsensical jig call eyes glisten eyes glisten eyes glisten eyes glisten call call party fainted ball him them girls a man in jig man again again by again him him for ten eyes glisten man again again swore hall eyes glisten call youll glisten eyes call eyes glisten eyes glisten eyes glisten eyes call eyes rose call call party fainted ball him them girls a man in jig man again again by again him him for ten eyes glisten man again\n"
          ],
          "name": "stdout"
        }
      ]
    }
  ]
}